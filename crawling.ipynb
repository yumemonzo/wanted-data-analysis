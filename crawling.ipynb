{
 "cells": [
  {
   "cell_type": "code",
   "execution_count": 1,
   "metadata": {},
   "outputs": [],
   "source": [
    "import time\n",
    "import pandas as pd\n",
    "from selenium import webdriver\n",
    "from selenium.webdriver.common.by import By\n",
    "from selenium.webdriver.common.keys import Keys\n",
    "from selenium.webdriver.support.ui import WebDriverWait\n",
    "from selenium.webdriver.support import expected_conditions as EC\n",
    "from selenium.webdriver.chrome.options import Options\n",
    "from tqdm import tqdm"
   ]
  },
  {
   "cell_type": "code",
   "execution_count": 2,
   "metadata": {},
   "outputs": [],
   "source": [
    "options = Options()\n",
    "# options.add_argument(\"--headless\")  # Headless 모드 활성화\n",
    "options.add_argument(\"--no-sandbox\")  # 일부 Docker 환경에서 필요한 옵션\n",
    "options.add_argument(\"--disable-dev-shm-usage\")  # 메모리 사용을 줄이기 위해 필요할 수 있음\n",
    "options.add_argument(\"--lang=ko-KR\")  # 한국어 설정"
   ]
  },
  {
   "cell_type": "code",
   "execution_count": 3,
   "metadata": {},
   "outputs": [],
   "source": [
    "driver = webdriver.Chrome(options=options)"
   ]
  },
  {
   "cell_type": "code",
   "execution_count": 4,
   "metadata": {},
   "outputs": [],
   "source": [
    "driver.get(\"https://www.wanted.co.kr/\")"
   ]
  },
  {
   "cell_type": "code",
   "execution_count": 5,
   "metadata": {},
   "outputs": [],
   "source": [
    "search_box_button = driver.find_element(By.XPATH, '//*[@id=\"__next\"]/div[1]/div[2]/nav/aside/ul/li[1]')\n",
    "search_box_button.click()"
   ]
  },
  {
   "cell_type": "code",
   "execution_count": 6,
   "metadata": {},
   "outputs": [],
   "source": [
    "search_box = driver.find_element(By.XPATH, '//*[@id=\"nav_searchbar\"]/div/div[2]/div/form/input')"
   ]
  },
  {
   "cell_type": "code",
   "execution_count": 7,
   "metadata": {},
   "outputs": [],
   "source": [
    "search_box.send_keys(\"데이터 분석가\")"
   ]
  },
  {
   "cell_type": "code",
   "execution_count": 8,
   "metadata": {},
   "outputs": [],
   "source": [
    "search_box.send_keys(Keys.ENTER)"
   ]
  },
  {
   "cell_type": "code",
   "execution_count": 9,
   "metadata": {},
   "outputs": [],
   "source": [
    "time.sleep(1)\n",
    "more_position_button = driver.find_element(By.XPATH, '//*[@id=\"search_tabpanel_overview\"]/div[1]/div[3]/button/div')\n",
    "more_position_button.click()"
   ]
  },
  {
   "cell_type": "code",
   "execution_count": 10,
   "metadata": {},
   "outputs": [
    {
     "data": {
      "text/plain": [
       "'109'"
      ]
     },
     "execution_count": 10,
     "metadata": {},
     "output_type": "execute_result"
    }
   ],
   "source": [
    "num_of_position = driver.find_element(By.XPATH, '//*[@id=\"search_tabpanel_position\"]/div/div[1]/h2/span')\n",
    "num_of_position.text"
   ]
  },
  {
   "cell_type": "code",
   "execution_count": 11,
   "metadata": {},
   "outputs": [],
   "source": [
    "# 페이지를 완전히 아래로 스크롤\n",
    "last_height = driver.execute_script(\"return document.body.scrollHeight\")\n",
    "\n",
    "while True:\n",
    "    # 현재 페이지의 끝까지 스크롤\n",
    "    driver.execute_script(\"window.scrollTo(0, document.body.scrollHeight);\")\n",
    "    time.sleep(1)  # 스크롤 후 페이지 로딩 시간 대기 (필요에 따라 조정 가능)\n",
    "\n",
    "    # 새로운 높이 확인\n",
    "    new_height = driver.execute_script(\"return document.body.scrollHeight\")\n",
    "    if new_height == last_height:\n",
    "        # 높이 변화가 없으면 스크롤 완료로 판단하고 종료\n",
    "        break\n",
    "    last_height = new_height"
   ]
  },
  {
   "cell_type": "code",
   "execution_count": 12,
   "metadata": {},
   "outputs": [
    {
     "name": "stderr",
     "output_type": "stream",
     "text": [
      "crawling...: 100%|██████████| 109/109 [04:09<00:00,  2.29s/it]\n"
     ]
    }
   ],
   "source": [
    "job_cards = []\n",
    "company_names = []\n",
    "locations = []\n",
    "careers = []\n",
    "main_jobs = []\n",
    "check_lists = []\n",
    "good_lists = []\n",
    "for num in tqdm(range(int(num_of_position.text)), desc='crawling...'):\n",
    "    try:\n",
    "        # 사진 클릭 버튼이 클릭 가능할 때까지 대기 후 클릭\n",
    "        picture_click_button = WebDriverWait(driver, 10).until(\n",
    "            EC.element_to_be_clickable((By.XPATH, f'//*[@id=\"search_tabpanel_position\"]/div/div[3]/div[{num+1}]'))\n",
    "        )\n",
    "        picture_click_button.click()\n",
    "        time.sleep(1)\n",
    "\n",
    "        # 더보기 버튼이 클릭 가능할 때까지 대기 후 클릭\n",
    "        see_more_button = WebDriverWait(driver, 10).until(\n",
    "            EC.presence_of_element_located((By.XPATH, '//*[@id=\"__next\"]/main/div[1]/div/section/section/article[1]/div/button/span[2]'))\n",
    "        )\n",
    "        see_more_button.click()\n",
    "\n",
    "        job_card = WebDriverWait(driver, 10).until(\n",
    "            EC.presence_of_element_located((By.XPATH, f'//*[@id=\"__next\"]/main/div[1]/div/section/header/h1'))\n",
    "        )\n",
    "        job_cards.append(job_card.text)\n",
    "        \n",
    "        company_name = WebDriverWait(driver, 10).until(\n",
    "            EC.presence_of_element_located((By.XPATH, f'//*[@id=\"__next\"]/main/div[1]/div/section/header/div/div[1]/a'))\n",
    "        )\n",
    "        company_names.append(company_name.text)\n",
    "\n",
    "        location = WebDriverWait(driver, 10).until(\n",
    "            EC.presence_of_element_located((By.XPATH, f'//*[@id=\"__next\"]/main/div[1]/div/section/header/div/div[1]/span[2]'))\n",
    "        )\n",
    "        locations.append(location.text)\n",
    "\n",
    "        career = WebDriverWait(driver, 10).until(\n",
    "            EC.presence_of_element_located((By.XPATH, f'//*[@id=\"__next\"]/main/div[1]/div/section/header/div/div[1]/span[4]'))\n",
    "        )\n",
    "        careers.append(career.text)\n",
    "\n",
    "        # main_jobs, check_lists, good_lists 텍스트가 로딩될 때까지 대기 후 추가\n",
    "        main_job = WebDriverWait(driver, 10).until(\n",
    "            EC.presence_of_element_located((By.XPATH, '//*[@id=\"__next\"]/main/div[1]/div/section/section/article[1]/div/div[1]'))\n",
    "        )\n",
    "        main_jobs.append(main_job.text)\n",
    "        \n",
    "        check_list = WebDriverWait(driver, 10).until(\n",
    "            EC.presence_of_element_located((By.XPATH, '//*[@id=\"__next\"]/main/div[1]/div/section/section/article[1]/div/div[2]'))\n",
    "        )\n",
    "        check_lists.append(check_list.text)\n",
    "        \n",
    "        good_list = WebDriverWait(driver, 10).until(\n",
    "            EC.presence_of_element_located((By.XPATH, '//*[@id=\"__next\"]/main/div[1]/div/section/section/article[1]/div/div[3]'))\n",
    "        )\n",
    "        good_lists.append(good_list.text)\n",
    "\n",
    "        # 이전 페이지로 이동 후 대기\n",
    "        driver.back()\n",
    "        time.sleep(1)\n",
    "\n",
    "    except Exception as e:\n",
    "        print(f\"job_titles: {len(job_cards)}\")\n",
    "        print(f\"company_names: {len(company_names)}\")\n",
    "        print(f'locations: {len(locations)}')\n",
    "        print(f'careers: {len(careers)}')\n",
    "        print(f\"main_jobs: {len(main_jobs)}\")\n",
    "        print(f\"check_lists: {len(check_lists)}\")\n",
    "        print(f\"good_lists: {len(good_lists)}\")\n",
    "        print(f\"error: {e}\")\n",
    "        raise"
   ]
  },
  {
   "cell_type": "code",
   "execution_count": 13,
   "metadata": {},
   "outputs": [],
   "source": [
    "# 데이터프레임 생성\n",
    "data = {\n",
    "    \"직무명\": job_cards,\n",
    "    \"회사명\": company_names,\n",
    "    \"위치\": locations,\n",
    "    \"경력\": careers,\n",
    "    \"주요업무\": main_jobs,\n",
    "    \"자격요건\": check_lists,\n",
    "    \"우대사항\": good_lists\n",
    "}\n",
    "df = pd.DataFrame(data)\n",
    "\n",
    "# CSV 파일로 저장\n",
    "df.to_csv(\"job_data.csv\", index=False)  # 현재 디렉토리에 job_data.csv로 저장"
   ]
  }
 ],
 "metadata": {
  "kernelspec": {
   "display_name": "Python 3",
   "language": "python",
   "name": "python3"
  },
  "language_info": {
   "codemirror_mode": {
    "name": "ipython",
    "version": 3
   },
   "file_extension": ".py",
   "mimetype": "text/x-python",
   "name": "python",
   "nbconvert_exporter": "python",
   "pygments_lexer": "ipython3",
   "version": "3.10.12"
  }
 },
 "nbformat": 4,
 "nbformat_minor": 2
}
